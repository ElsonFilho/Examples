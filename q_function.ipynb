{
  "nbformat": 4,
  "nbformat_minor": 0,
  "metadata": {
    "colab": {
      "name": "Untitled",
      "provenance": [],
      "authorship_tag": "ABX9TyMYKHyKiNpjwENQL/ua1ppd",
      "include_colab_link": true
    },
    "kernelspec": {
      "name": "python3",
      "display_name": "Python 3"
    },
    "language_info": {
      "name": "python"
    }
  },
  "cells": [
    {
      "cell_type": "markdown",
      "metadata": {
        "id": "view-in-github",
        "colab_type": "text"
      },
      "source": [
        "<a href=\"https://colab.research.google.com/github/ElsonFilho/Examples/blob/master/q_function.ipynb\" target=\"_parent\"><img src=\"https://colab.research.google.com/assets/colab-badge.svg\" alt=\"Open In Colab\"/></a>"
      ]
    },
    {
      "cell_type": "code",
      "source": [
        "import numpy as np"
      ],
      "metadata": {
        "id": "LasMABp8GKen"
      },
      "execution_count": 3,
      "outputs": []
    },
    {
      "cell_type": "code",
      "source": [
        "num_states = 6\n",
        "num_actions = 2"
      ],
      "metadata": {
        "id": "4g7-UPV5GXFf"
      },
      "execution_count": 5,
      "outputs": []
    },
    {
      "cell_type": "code",
      "source": [
        "terminal_left_reward = 100\n",
        "terminal_right_reward = 40\n",
        "each_step_reward = 0\n",
        "\n",
        "gamma = 0.5\n",
        "\n",
        "misstep_prob = 0"
      ],
      "metadata": {
        "id": "4dzPxvAbGiWP"
      },
      "execution_count": 6,
      "outputs": []
    },
    {
      "cell_type": "code",
      "source": [
        "generate_visualization(terminal_left_reward, terminal_right_reward, each_step_reward, gamma, misstep_prob )"
      ],
      "metadata": {
        "colab": {
          "base_uri": "https://localhost:8080/",
          "height": 165
        },
        "id": "MSGAiKFNG1tZ",
        "outputId": "f1ef0210-2cb3-406a-d8ad-e88da653afd5"
      },
      "execution_count": 7,
      "outputs": [
        {
          "output_type": "error",
          "ename": "NameError",
          "evalue": "ignored",
          "traceback": [
            "\u001b[0;31m---------------------------------------------------------------------------\u001b[0m",
            "\u001b[0;31mNameError\u001b[0m                                 Traceback (most recent call last)",
            "\u001b[0;32m<ipython-input-7-4229837bca2f>\u001b[0m in \u001b[0;36m<module>\u001b[0;34m()\u001b[0m\n\u001b[0;32m----> 1\u001b[0;31m \u001b[0mgenerate_visualization\u001b[0m\u001b[0;34m(\u001b[0m\u001b[0mterminal_left_reward\u001b[0m\u001b[0;34m,\u001b[0m \u001b[0mterminal_right_reward\u001b[0m\u001b[0;34m,\u001b[0m \u001b[0meach_step_reward\u001b[0m\u001b[0;34m,\u001b[0m \u001b[0mgamma\u001b[0m\u001b[0;34m,\u001b[0m \u001b[0mmisstep_prob\u001b[0m \u001b[0;34m)\u001b[0m\u001b[0;34m\u001b[0m\u001b[0;34m\u001b[0m\u001b[0m\n\u001b[0m",
            "\u001b[0;31mNameError\u001b[0m: name 'generate_visualization' is not defined"
          ]
        }
      ]
    }
  ]
}